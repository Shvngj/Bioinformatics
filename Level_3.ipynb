{
  "nbformat": 4,
  "nbformat_minor": 0,
  "metadata": {
    "colab": {
      "name": "Level_3.ipynb",
      "provenance": [],
      "collapsed_sections": [],
      "authorship_tag": "ABX9TyNH8f/+D0QEc6vv0KYESLiy",
      "include_colab_link": true
    },
    "kernelspec": {
      "name": "python3",
      "display_name": "Python 3"
    },
    "language_info": {
      "name": "python"
    }
  },
  "cells": [
    {
      "cell_type": "markdown",
      "metadata": {
        "id": "view-in-github",
        "colab_type": "text"
      },
      "source": [
        "<a href=\"https://colab.research.google.com/github/Taniya101/Bioinformatics/blob/main/Level_3.ipynb\" target=\"_parent\"><img src=\"https://colab.research.google.com/assets/colab-badge.svg\" alt=\"Open In Colab\"/></a>"
      ]
    },
    {
      "cell_type": "code",
      "metadata": {
        "id": "c3rMbqnyxyIJ"
      },
      "source": [
        "# Q. Identify the value of i for which Skew of (CATTCCAGTACTTCGATGATGGCGTGAAGA) attains a minimum value.\n",
        "#name='atcaatgatcaacgtaagcttctaagcatgatcaaggtgctcacacagtttatccacaacctgagtggatgacatcaagataggtcgttgtatctccttcctctcgtactctcatgaccacggaaagatgatcaagagaggatgatttcttggccatatcgcaatgaatacttgtgacttgtgcttccaattgacatcttcagcgccatattgcgctggccaaggtgacggagcgggattacgaaagcatgatcatggctgttgttctgtttatcttgttttgactgagacttgttaggatagacggtttttcatcactgactagccaaagccttactctgcctgacatcgaccgtaaattgataatgaatttacatgcttccgcgacgatttacctcttgatcatcgatccgattgaagatcttcaattgttaattctcttgcctcgactcatagccatgatgagctcttgatcatgtttccttaaccctctattttttacggaagaatgatcaagctgctgctcttgatcatcgtttc'\n",
        "name='TAAAGACTGCCGAGAGGCCAACACGAGTGCTAGAACGAGGGGCGTAAACGCGGGTCCGAT'\n",
        "Gcount=0\n",
        "Ccount=0\n",
        "\n",
        "listy=[]\n",
        "for i in range(len(name)):\n",
        "  if (name[i]=='g' or name[i]=='G'):\n",
        "    Gcount = Gcount + 1\n",
        "    skew=Gcount-Ccount\n",
        "    listy.append((i,skew))\n",
        "  if name[i]=='c' or name[i]=='C':\n",
        "    Ccount = Ccount + 1\n",
        "    skew=Gcount-Ccount\n",
        "    listy.append((i,skew))\n",
        "\n",
        "listy.sort(key=lambda x:x[1])\n",
        "print(listy)\n",
        "print(\"Origin of replication is after index:\",listy[0][0],'. 2nd possibility',listy[1][0])\n",
        "print(\"Termination point is after index:\",listy[-1][0])"
      ],
      "execution_count": null,
      "outputs": []
    }
  ]
}