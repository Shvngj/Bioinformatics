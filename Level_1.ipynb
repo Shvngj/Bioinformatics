{
  "nbformat": 4,
  "nbformat_minor": 0,
  "metadata": {
    "colab": {
      "name": "Level 1.ipynb",
      "provenance": [],
      "collapsed_sections": [],
      "authorship_tag": "ABX9TyMb0+MCf/eDH0oZJjBE7dRN",
      "include_colab_link": true
    },
    "kernelspec": {
      "name": "python3",
      "display_name": "Python 3"
    },
    "language_info": {
      "name": "python"
    }
  },
  "cells": [
    {
      "cell_type": "markdown",
      "metadata": {
        "id": "view-in-github",
        "colab_type": "text"
      },
      "source": [
        "<a href=\"https://colab.research.google.com/github/Taniya101/Bioinformatics/blob/main/Level_1.ipynb\" target=\"_parent\"><img src=\"https://colab.research.google.com/assets/colab-badge.svg\" alt=\"Open In Colab\"/></a>"
      ]
    },
    {
      "cell_type": "code",
      "metadata": {
        "id": "0ZUcvatVCRnn"
      },
      "source": [
        "# Q. Find the frequency and locations of the top n most frequent k-mers in a given DNA sequence where the starting nucleotide of the name can be anyone\n",
        "#What is the most frequent 3-mer of CGGAGGACTCTAGGTAACGCTTATCAGGTCCATAGGACATTCA?\n",
        "#Solve the Pattern Matching Problem with Text = AAACATAGGATCAAC and Pattern = AA to find all starting positions of Pattern in Text.\n",
        "\n",
        "def MakeKmers(name,l,k): #Makes list of all kmers from the name as a list of list, each sublist starting from each index x from beginning\n",
        "  list0=[]\n",
        "  for j in range(0,l): \n",
        "    lofj=[]\n",
        "    for i in range(j,l,k):\n",
        "      kmername=name[i:i+k]\n",
        "      if len(kmername)==k:\n",
        "        lofj.append(kmername)\n",
        "    if len(lofj)!=0:\n",
        "      list0.append(lofj)\n",
        "  return(list0)\n",
        "  #for i in range (ind,l,k):\n",
        "  # kmername=name[i:i+k]\n",
        "  # if len(kmername)==k:\n",
        "  #   list0.append(kmername)\n",
        "\n",
        "def PatternMatch(pattern,name,x): #return freq and location of a kmer in a sublist with corresponding starting index of name\n",
        "  ref_kmers=[]\n",
        "  for i in range(x,len(name)):\n",
        "    ref_kmers.append(name[i:i+len(pattern)])\n",
        "  #for i in range(x,len(name),len(pattern)):\n",
        "  # ref_kmers.append(name[i:i+len(pattern)])\n",
        "\n",
        "  itemno = 0\n",
        "  locations=[]\n",
        "  cnt = 0\n",
        "  for item in ref_kmers:\n",
        "    if pattern == item:\n",
        "      cnt = cnt + 1\n",
        "      locations.append(itemno)\n",
        "    itemno = itemno+1\n",
        "  return cnt, locations\n",
        "\n",
        "def Send2PatternMatch(name,listy,x): #sends each kmer in each sublist to pattern match with the name starting from the corresponding index x\n",
        "  checked=[]\n",
        "  list1=[]\n",
        "  for item in listy:\n",
        "    checked.append(item)\n",
        "    exist_count = checked.count(item)\n",
        "    if exist_count== 1:\n",
        "      info=(index,code,freq,loc)=(x,item,PatternMatch(item,name,x)[0],PatternMatch(item,name,x)[1])\n",
        "      list1.append(info)\n",
        "  return list1\n",
        "\n",
        "def main():\n",
        "  name = str(input(\"Enter nucleotide sequence: \"))\n",
        "  k = int(input(\"Enter k value for the k-mer: \"))\n",
        "  n = int(input(\"Enter n value for the top n: \"))\n",
        "  #ind = int(input(\"Enter sequence starting index value: \"))\n",
        "  #name = 'CGGAGGACTCTAGGTAACGCTTATCAGGTCCATAGGACATTCA'\n",
        "  l=len(name)\n",
        "  #k=3\n",
        "  list0=MakeKmers(name,l,k)\n",
        "  ll=len(list0)\n",
        "  #print(list0)\n",
        "\n",
        "  LIST=[]\n",
        "  for i in range(ll):\n",
        "    LIST.append(Send2PatternMatch(name,list0[i],i))\n",
        " \n",
        " #LIST.append(Send2PatternMatch(name,list0,ind))\n",
        " # print(LIST)\n",
        "\n",
        "  for i in range(ll):\n",
        "    LIST[i].sort(key=lambda x:x[2],reverse=True)\n",
        "    print(\"Freq and position of top n kmers from sequence starting with index \",i,\" of name are: \",LIST[i][:n])\n",
        "  #LIST.sort(key=lambda x:x[2],reverse=True)\n",
        "  #print(\"Freq and position of top n kmers from sequence starting with index \",ind,\" of name are: \",LIST[:n])\n",
        "\n",
        "if __name__ == \"__main__\":\n",
        "  main()"
      ],
      "execution_count": null,
      "outputs": []
    }
  ]
}