{
  "nbformat": 4,
  "nbformat_minor": 0,
  "metadata": {
    "colab": {
      "name": "Level 2.ipynb",
      "provenance": [],
      "collapsed_sections": [],
      "authorship_tag": "ABX9TyMxRIOqpTQHVa0hTVej28ax"
    },
    "kernelspec": {
      "name": "python3",
      "display_name": "Python 3"
    },
    "language_info": {
      "name": "python"
    }
  },
  "cells": [
    {
      "cell_type": "code",
      "metadata": {
        "id": "CF_OLVx0DeAg"
      },
      "source": [
        "# Q. Find the most frequent k-mers with atmost d mismatches between them\n",
        "\n",
        "def Send2PatternMatch(name,listy,x): #sends each kmer in each sublist to pattern match with the name starting from the corresponding index x\n",
        "  checked=[]\n",
        "  list1=[]\n",
        "  for item in listy:\n",
        "    checked.append(item)\n",
        "    exist_count = checked.count(item)\n",
        "    if exist_count== 1:\n",
        "      list1.append(item)\n",
        "  return list1\n",
        "\n",
        "def HammingDistance(a,b):\n",
        "  l=len(a)\n",
        "  HD=0\n",
        "  for i in range(l):\n",
        "    if a[i]!=b[i]:\n",
        "      HD=HD+1\n",
        "  return HD\n",
        "\n",
        "def main():\n",
        "  name = str(input(\"Enter nucleotide sequence: \"))\n",
        "  k = int(input(\"Enter k value for the k-mer: \"))\n",
        "  d = int(input(\"Enter d value for maximum hamming distance: \"))\n",
        "  #ind = int(input(\"Enter sequence starting index value: \"))\n",
        "  #name = 'CGGAGGACTCTAGGTAACGCTTATCAGGTCCATAGGACATTCA'\n",
        "  #k = 3\n",
        "  kmers=[]\n",
        "  ind = 0\n",
        "  #d=3\n",
        "  for i in range(ind,len(name),k):\n",
        "    kmername=name[i:i+k]\n",
        "    if len(kmername)==k:\n",
        "      kmers.append(kmername)\n",
        "  kmers1=Send2PatternMatch(name,kmers,ind)\n",
        "  codesHD=[]\n",
        "  for i in range(0,len(kmers)-1):\n",
        "    for j in range(i+1,len(kmers)):\n",
        "      tupp=(code1,code2,HD)=(kmers[i],kmers[j],HammingDistance(kmers[i],kmers[j]))\n",
        "      codesHD.append(tupp)\n",
        "  codesHDfinal=[]\n",
        "  for i in range(len(codesHD)):\n",
        "    if codesHD[i][2]<=d:\n",
        "      codesHDfinal.append(codesHD[i])\n",
        "\n",
        "  codesHDfinal.sort(key=lambda x:x[2])\n",
        "  print(codesHDfinal)\n",
        "  \n",
        "if __name__==\"__main__\":\n",
        "  main()"
      ],
      "execution_count": null,
      "outputs": []
    }
  ]
}