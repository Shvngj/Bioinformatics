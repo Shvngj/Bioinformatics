{
  "nbformat": 4,
  "nbformat_minor": 0,
  "metadata": {
    "colab": {
      "name": "Level_2.ipynb",
      "provenance": [],
      "authorship_tag": "ABX9TyNXcd0Ss8k81bFQjsSurQ+W",
      "include_colab_link": true
    },
    "kernelspec": {
      "name": "python3",
      "display_name": "Python 3"
    },
    "language_info": {
      "name": "python"
    }
  },
  "cells": [
    {
      "cell_type": "markdown",
      "metadata": {
        "id": "view-in-github",
        "colab_type": "text"
      },
      "source": [
        "<a href=\"https://colab.research.google.com/github/Taniya101/Bioinformatics/blob/main/Level_2.ipynb\" target=\"_parent\"><img src=\"https://colab.research.google.com/assets/colab-badge.svg\" alt=\"Open In Colab\"/></a>"
      ]
    },
    {
      "cell_type": "code",
      "metadata": {
        "id": "22XiyPWatIcz"
      },
      "source": [
        "# Q. Find the most frequent k-mers with atmost d mismatches between them\n",
        "\n",
        "def HammingDistance(a,b):\n",
        "  l=len(a)\n",
        "  HD=0\n",
        "  for i in range(l):\n",
        "    if a[i]!=b[i]:\n",
        "      HD=HD+1\n",
        "  return HD\n",
        "\n",
        "def main():\n",
        "  name = str(input(\"Enter nucleotide sequence: \"))\n",
        "  d = int(input(\"Enter number of mismatches: \"))\n",
        "  k = int(input(\"Enter k value for the k-mer: \"))\n",
        "\n",
        "  #name = 'CGGACTCGGTASDFCGCGGG'\n",
        "  #d=2\n",
        "  #k=4\n",
        "\n",
        "for i in range(len(name)):\n",
        "  kmer1l=[]\n",
        "  count = 1\n",
        "  kmer1=name[i:i+k]\n",
        "  if len(kmer1)==k:\n",
        "    kmer1l.append(kmer1)\n",
        "  for j in range(i+k,len(name)):\n",
        "    kmer2=name[j:j+k]\n",
        "    #print(kmer1,kmer2)\n",
        "    if len(kmer1)==k & len(kmer2)==k:\n",
        "      if (HammingDistance(kmer1,kmer2))<=d:\n",
        "        kmer1l.append(kmer2)\n",
        "        count=count+1\n",
        "  if count>1:\n",
        "    kmer1l[-1]=count\n",
        "    print(kmer1l)\n",
        "  \n",
        "if __name__==\"__main__\":\n",
        "  main()"
      ],
      "execution_count": null,
      "outputs": []
    }
  ]
}